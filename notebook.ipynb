{
 "cells": [
  {
   "cell_type": "markdown",
   "metadata": {},
   "source": [
    "<img src=\"https://logosmarcas.net/wp-content/uploads/2020/04/YouTube-S%C3%ADmbolo.jpg\" alt=\"Logo do YouTube\" width=\"100\"/>\n"
   ]
  },
  {
   "cell_type": "markdown",
   "metadata": {},
   "source": [
    "---\n",
    "\n",
    "## Análise dos Dados do YouTube\n",
    "\n",
    "Esta análise envolve a exploração de um conjunto de dados unificado que reúne informações de vídeos tendência do YouTube de várias regiões, incluindo Canadá, Alemanha, França, Grã-Bretanha, Índia, Japão, Coreia do Sul, México, Rússia e Estados Unidos. O conjunto de dados abrange uma ampla gama de métricas, como visualizações, curtidas, descurtidas, contagem de comentários, e informações de publicação como data e hora.\n",
    "\n",
    "---"
   ]
  },
  {
   "cell_type": "code",
   "execution_count": 29,
   "metadata": {},
   "outputs": [],
   "source": [
    "#Importando as bibliotecas necessárias\n",
    "import pandas as pd\n",
    "import numpy as np\n",
    "import seaborn as sns\n",
    "import json\n",
    "import matplotlib.pyplot as plt\n",
    "%matplotlib inline"
   ]
  },
  {
   "cell_type": "markdown",
   "metadata": {},
   "source": [
    "---\n",
    "\n",
    "### Criação dos DataFrames\n",
    "\n",
    "Para iniciar a análise dos vídeos tendência do YouTube, carregamos dados de dez países (Canadá, Alemanha, França, Grã-Bretanha, Índia, Japão, Coreia do Sul, México, Rússia e Estados Unidos) em DataFrames separados. Utilizamos a codificação 'UTF-8' para garantir a leitura adequada dos arquivos CSV, contornando problemas de decodificação de caracteres.\n",
    "Não foi utilizado o CHARTED (Biblioteca), por que ele mostra o encoding, mais mesmo assim dependendo de como esse arquivo foi salvo dará erro, então melhor usar a função abaixo e caso não der certo, alterar no próprio VsCode o tipo do encoding.\n",
    "\n",
    "---"
   ]
  },
  {
   "cell_type": "code",
   "execution_count": 39,
   "metadata": {},
   "outputs": [
    {
     "name": "stdout",
     "output_type": "stream",
     "text": [
      "Arquivo lido com sucesso usando o encoding: UTF-8\n"
     ]
    }
   ],
   "source": [
    "#Função para testar os encoding, caso não der certo. Abrir o arquivo no vscode, ir na barra inferior e alterar manualmente o encoding para utf-8, clicando em save  with encoding.\n",
    "\n",
    "try_encodings = ['UTF-8', 'ISO-8859-1']\n",
    "\n",
    "for enc in try_encodings:\n",
    "    try:\n",
    "        df_japao = pd.read_csv('base_dados/JPvideos.csv', encoding=enc)\n",
    "        print(f\"Arquivo lido com sucesso usando o encoding: {enc}\")\n",
    "        break\n",
    "    except UnicodeDecodeError as e:\n",
    "        print(f\"Erro ao tentar ler com {enc}: {e}\")"
   ]
  },
  {
   "cell_type": "code",
   "execution_count": 37,
   "metadata": {},
   "outputs": [],
   "source": [
    "df_canada  = pd.read_csv('base_dados/CAvideos.csv', encoding='utf-8')\n",
    "df_alemanha  = pd.read_csv('base_dados/DEvideos.csv', encoding='utf-8')\n",
    "df_franca  = pd.read_csv('base_dados/FRvideos.csv', encoding='utf-8')\n",
    "df_granBetanha  = pd.read_csv('base_dados/GBvideos.csv', encoding='utf-8')\n",
    "df_india  = pd.read_csv('base_dados/INvideos.csv', encoding='utf-8')\n",
    "df_estadosUnidos  = pd.read_csv('base_dados/USvideos.csv', encoding='utf-8')\n",
    "df_mexico  = pd.read_csv('base_dados/MXvideos.csv', encoding='ISO-8859-1')\n",
    "df_japao  = pd.read_csv('base_dados/JPvideos.csv', encoding='utf-8')\n",
    "df_coreiaSul  = pd.read_csv('base_dados/KRvideos.csv', encoding='utf-8')\n",
    "df_russia  = pd.read_csv('base_dados/RUvideos.csv', encoding='utf-8')\n",
    "df_mexico  = pd.read_csv('base_dados/MXvideos.csv', encoding='utf-8')"
   ]
  },
  {
   "cell_type": "code",
   "execution_count": 40,
   "metadata": {},
   "outputs": [
    {
     "name": "stdout",
     "output_type": "stream",
     "text": [
      "<class 'pandas.core.frame.DataFrame'>\n",
      "RangeIndex: 40881 entries, 0 to 40880\n",
      "Data columns (total 16 columns):\n",
      " #   Column                  Non-Null Count  Dtype \n",
      "---  ------                  --------------  ----- \n",
      " 0   video_id                40881 non-null  object\n",
      " 1   trending_date           40881 non-null  object\n",
      " 2   title                   40881 non-null  object\n",
      " 3   channel_title           40881 non-null  object\n",
      " 4   category_id             40881 non-null  int64 \n",
      " 5   publish_time            40881 non-null  object\n",
      " 6   tags                    40881 non-null  object\n",
      " 7   views                   40881 non-null  int64 \n",
      " 8   likes                   40881 non-null  int64 \n",
      " 9   dislikes                40881 non-null  int64 \n",
      " 10  comment_count           40881 non-null  int64 \n",
      " 11  thumbnail_link          40881 non-null  object\n",
      " 12  comments_disabled       40881 non-null  bool  \n",
      " 13  ratings_disabled        40881 non-null  bool  \n",
      " 14  video_error_or_removed  40881 non-null  bool  \n",
      " 15  description             39585 non-null  object\n",
      "dtypes: bool(3), int64(5), object(8)\n",
      "memory usage: 4.2+ MB\n"
     ]
    }
   ],
   "source": [
    "df_canada.info()"
   ]
  },
  {
   "cell_type": "code",
   "execution_count": 41,
   "metadata": {},
   "outputs": [
    {
     "name": "stdout",
     "output_type": "stream",
     "text": [
      "<class 'pandas.core.frame.DataFrame'>\n",
      "RangeIndex: 40840 entries, 0 to 40839\n",
      "Data columns (total 16 columns):\n",
      " #   Column                  Non-Null Count  Dtype \n",
      "---  ------                  --------------  ----- \n",
      " 0   video_id                40840 non-null  object\n",
      " 1   trending_date           40840 non-null  object\n",
      " 2   title                   40840 non-null  object\n",
      " 3   channel_title           40840 non-null  object\n",
      " 4   category_id             40840 non-null  int64 \n",
      " 5   publish_time            40840 non-null  object\n",
      " 6   tags                    40840 non-null  object\n",
      " 7   views                   40840 non-null  int64 \n",
      " 8   likes                   40840 non-null  int64 \n",
      " 9   dislikes                40840 non-null  int64 \n",
      " 10  comment_count           40840 non-null  int64 \n",
      " 11  thumbnail_link          40840 non-null  object\n",
      " 12  comments_disabled       40840 non-null  bool  \n",
      " 13  ratings_disabled        40840 non-null  bool  \n",
      " 14  video_error_or_removed  40840 non-null  bool  \n",
      " 15  description             39288 non-null  object\n",
      "dtypes: bool(3), int64(5), object(8)\n",
      "memory usage: 4.2+ MB\n"
     ]
    }
   ],
   "source": [
    "df_alemanha.info()"
   ]
  },
  {
   "cell_type": "code",
   "execution_count": 42,
   "metadata": {},
   "outputs": [
    {
     "name": "stdout",
     "output_type": "stream",
     "text": [
      "<class 'pandas.core.frame.DataFrame'>\n",
      "RangeIndex: 40724 entries, 0 to 40723\n",
      "Data columns (total 16 columns):\n",
      " #   Column                  Non-Null Count  Dtype \n",
      "---  ------                  --------------  ----- \n",
      " 0   video_id                40724 non-null  object\n",
      " 1   trending_date           40724 non-null  object\n",
      " 2   title                   40724 non-null  object\n",
      " 3   channel_title           40724 non-null  object\n",
      " 4   category_id             40724 non-null  int64 \n",
      " 5   publish_time            40724 non-null  object\n",
      " 6   tags                    40724 non-null  object\n",
      " 7   views                   40724 non-null  int64 \n",
      " 8   likes                   40724 non-null  int64 \n",
      " 9   dislikes                40724 non-null  int64 \n",
      " 10  comment_count           40724 non-null  int64 \n",
      " 11  thumbnail_link          40724 non-null  object\n",
      " 12  comments_disabled       40724 non-null  bool  \n",
      " 13  ratings_disabled        40724 non-null  bool  \n",
      " 14  video_error_or_removed  40724 non-null  bool  \n",
      " 15  description             37812 non-null  object\n",
      "dtypes: bool(3), int64(5), object(8)\n",
      "memory usage: 4.2+ MB\n"
     ]
    }
   ],
   "source": [
    "df_franca.info()"
   ]
  },
  {
   "cell_type": "code",
   "execution_count": 43,
   "metadata": {},
   "outputs": [
    {
     "name": "stdout",
     "output_type": "stream",
     "text": [
      "<class 'pandas.core.frame.DataFrame'>\n",
      "RangeIndex: 38916 entries, 0 to 38915\n",
      "Data columns (total 16 columns):\n",
      " #   Column                  Non-Null Count  Dtype \n",
      "---  ------                  --------------  ----- \n",
      " 0   video_id                38916 non-null  object\n",
      " 1   trending_date           38916 non-null  object\n",
      " 2   title                   38916 non-null  object\n",
      " 3   channel_title           38916 non-null  object\n",
      " 4   category_id             38916 non-null  int64 \n",
      " 5   publish_time            38916 non-null  object\n",
      " 6   tags                    38916 non-null  object\n",
      " 7   views                   38916 non-null  int64 \n",
      " 8   likes                   38916 non-null  int64 \n",
      " 9   dislikes                38916 non-null  int64 \n",
      " 10  comment_count           38916 non-null  int64 \n",
      " 11  thumbnail_link          38916 non-null  object\n",
      " 12  comments_disabled       38916 non-null  bool  \n",
      " 13  ratings_disabled        38916 non-null  bool  \n",
      " 14  video_error_or_removed  38916 non-null  bool  \n",
      " 15  description             38304 non-null  object\n",
      "dtypes: bool(3), int64(5), object(8)\n",
      "memory usage: 4.0+ MB\n"
     ]
    }
   ],
   "source": [
    "df_granBetanha.info()"
   ]
  },
  {
   "cell_type": "code",
   "execution_count": 44,
   "metadata": {},
   "outputs": [
    {
     "name": "stdout",
     "output_type": "stream",
     "text": [
      "<class 'pandas.core.frame.DataFrame'>\n",
      "RangeIndex: 37352 entries, 0 to 37351\n",
      "Data columns (total 16 columns):\n",
      " #   Column                  Non-Null Count  Dtype \n",
      "---  ------                  --------------  ----- \n",
      " 0   video_id                37352 non-null  object\n",
      " 1   trending_date           37352 non-null  object\n",
      " 2   title                   37352 non-null  object\n",
      " 3   channel_title           37352 non-null  object\n",
      " 4   category_id             37352 non-null  int64 \n",
      " 5   publish_time            37352 non-null  object\n",
      " 6   tags                    37352 non-null  object\n",
      " 7   views                   37352 non-null  int64 \n",
      " 8   likes                   37352 non-null  int64 \n",
      " 9   dislikes                37352 non-null  int64 \n",
      " 10  comment_count           37352 non-null  int64 \n",
      " 11  thumbnail_link          37352 non-null  object\n",
      " 12  comments_disabled       37352 non-null  bool  \n",
      " 13  ratings_disabled        37352 non-null  bool  \n",
      " 14  video_error_or_removed  37352 non-null  bool  \n",
      " 15  description             36791 non-null  object\n",
      "dtypes: bool(3), int64(5), object(8)\n",
      "memory usage: 3.8+ MB\n"
     ]
    }
   ],
   "source": [
    "df_india.info()"
   ]
  },
  {
   "cell_type": "code",
   "execution_count": 45,
   "metadata": {},
   "outputs": [
    {
     "name": "stdout",
     "output_type": "stream",
     "text": [
      "<class 'pandas.core.frame.DataFrame'>\n",
      "RangeIndex: 20523 entries, 0 to 20522\n",
      "Data columns (total 16 columns):\n",
      " #   Column                  Non-Null Count  Dtype \n",
      "---  ------                  --------------  ----- \n",
      " 0   video_id                20523 non-null  object\n",
      " 1   trending_date           20523 non-null  object\n",
      " 2   title                   20523 non-null  object\n",
      " 3   channel_title           20523 non-null  object\n",
      " 4   category_id             20523 non-null  int64 \n",
      " 5   publish_time            20523 non-null  object\n",
      " 6   tags                    20523 non-null  object\n",
      " 7   views                   20523 non-null  int64 \n",
      " 8   likes                   20523 non-null  int64 \n",
      " 9   dislikes                20523 non-null  int64 \n",
      " 10  comment_count           20523 non-null  int64 \n",
      " 11  thumbnail_link          20523 non-null  object\n",
      " 12  comments_disabled       20523 non-null  bool  \n",
      " 13  ratings_disabled        20523 non-null  bool  \n",
      " 14  video_error_or_removed  20523 non-null  bool  \n",
      " 15  description             18399 non-null  object\n",
      "dtypes: bool(3), int64(5), object(8)\n",
      "memory usage: 2.1+ MB\n"
     ]
    }
   ],
   "source": [
    "df_japao.info()"
   ]
  },
  {
   "cell_type": "code",
   "execution_count": 46,
   "metadata": {},
   "outputs": [
    {
     "name": "stdout",
     "output_type": "stream",
     "text": [
      "<class 'pandas.core.frame.DataFrame'>\n",
      "RangeIndex: 34567 entries, 0 to 34566\n",
      "Data columns (total 16 columns):\n",
      " #   Column                  Non-Null Count  Dtype \n",
      "---  ------                  --------------  ----- \n",
      " 0   video_id                34567 non-null  object\n",
      " 1   trending_date           34567 non-null  object\n",
      " 2   title                   34567 non-null  object\n",
      " 3   channel_title           34567 non-null  object\n",
      " 4   category_id             34567 non-null  int64 \n",
      " 5   publish_time            34567 non-null  object\n",
      " 6   tags                    34567 non-null  object\n",
      " 7   views                   34567 non-null  int64 \n",
      " 8   likes                   34567 non-null  int64 \n",
      " 9   dislikes                34567 non-null  int64 \n",
      " 10  comment_count           34567 non-null  int64 \n",
      " 11  thumbnail_link          34567 non-null  object\n",
      " 12  comments_disabled       34567 non-null  bool  \n",
      " 13  ratings_disabled        34567 non-null  bool  \n",
      " 14  video_error_or_removed  34567 non-null  bool  \n",
      " 15  description             31404 non-null  object\n",
      "dtypes: bool(3), int64(5), object(8)\n",
      "memory usage: 3.5+ MB\n"
     ]
    }
   ],
   "source": [
    "df_coreiaSul.info()"
   ]
  },
  {
   "cell_type": "code",
   "execution_count": 47,
   "metadata": {},
   "outputs": [
    {
     "name": "stdout",
     "output_type": "stream",
     "text": [
      "<class 'pandas.core.frame.DataFrame'>\n",
      "RangeIndex: 40451 entries, 0 to 40450\n",
      "Data columns (total 16 columns):\n",
      " #   Column                  Non-Null Count  Dtype \n",
      "---  ------                  --------------  ----- \n",
      " 0   video_id                40451 non-null  object\n",
      " 1   trending_date           40451 non-null  object\n",
      " 2   title                   40451 non-null  object\n",
      " 3   channel_title           40451 non-null  object\n",
      " 4   category_id             40451 non-null  int64 \n",
      " 5   publish_time            40451 non-null  object\n",
      " 6   tags                    40451 non-null  object\n",
      " 7   views                   40451 non-null  int64 \n",
      " 8   likes                   40451 non-null  int64 \n",
      " 9   dislikes                40451 non-null  int64 \n",
      " 10  comment_count           40451 non-null  int64 \n",
      " 11  thumbnail_link          40451 non-null  object\n",
      " 12  comments_disabled       40451 non-null  bool  \n",
      " 13  ratings_disabled        40451 non-null  bool  \n",
      " 14  video_error_or_removed  40451 non-null  bool  \n",
      " 15  description             36227 non-null  object\n",
      "dtypes: bool(3), int64(5), object(8)\n",
      "memory usage: 4.1+ MB\n"
     ]
    }
   ],
   "source": [
    "df_mexico.info()"
   ]
  },
  {
   "cell_type": "code",
   "execution_count": 48,
   "metadata": {},
   "outputs": [
    {
     "name": "stdout",
     "output_type": "stream",
     "text": [
      "<class 'pandas.core.frame.DataFrame'>\n",
      "RangeIndex: 40739 entries, 0 to 40738\n",
      "Data columns (total 16 columns):\n",
      " #   Column                  Non-Null Count  Dtype \n",
      "---  ------                  --------------  ----- \n",
      " 0   video_id                40739 non-null  object\n",
      " 1   trending_date           40739 non-null  object\n",
      " 2   title                   40739 non-null  object\n",
      " 3   channel_title           40739 non-null  object\n",
      " 4   category_id             40739 non-null  int64 \n",
      " 5   publish_time            40739 non-null  object\n",
      " 6   tags                    40739 non-null  object\n",
      " 7   views                   40739 non-null  int64 \n",
      " 8   likes                   40739 non-null  int64 \n",
      " 9   dislikes                40739 non-null  int64 \n",
      " 10  comment_count           40739 non-null  int64 \n",
      " 11  thumbnail_link          40739 non-null  object\n",
      " 12  comments_disabled       40739 non-null  bool  \n",
      " 13  ratings_disabled        40739 non-null  bool  \n",
      " 14  video_error_or_removed  40739 non-null  bool  \n",
      " 15  description             38275 non-null  object\n",
      "dtypes: bool(3), int64(5), object(8)\n",
      "memory usage: 4.2+ MB\n"
     ]
    }
   ],
   "source": [
    "df_russia.info()"
   ]
  },
  {
   "cell_type": "code",
   "execution_count": 49,
   "metadata": {},
   "outputs": [
    {
     "name": "stdout",
     "output_type": "stream",
     "text": [
      "<class 'pandas.core.frame.DataFrame'>\n",
      "RangeIndex: 40949 entries, 0 to 40948\n",
      "Data columns (total 16 columns):\n",
      " #   Column                  Non-Null Count  Dtype \n",
      "---  ------                  --------------  ----- \n",
      " 0   video_id                40949 non-null  object\n",
      " 1   trending_date           40949 non-null  object\n",
      " 2   title                   40949 non-null  object\n",
      " 3   channel_title           40949 non-null  object\n",
      " 4   category_id             40949 non-null  int64 \n",
      " 5   publish_time            40949 non-null  object\n",
      " 6   tags                    40949 non-null  object\n",
      " 7   views                   40949 non-null  int64 \n",
      " 8   likes                   40949 non-null  int64 \n",
      " 9   dislikes                40949 non-null  int64 \n",
      " 10  comment_count           40949 non-null  int64 \n",
      " 11  thumbnail_link          40949 non-null  object\n",
      " 12  comments_disabled       40949 non-null  bool  \n",
      " 13  ratings_disabled        40949 non-null  bool  \n",
      " 14  video_error_or_removed  40949 non-null  bool  \n",
      " 15  description             40379 non-null  object\n",
      "dtypes: bool(3), int64(5), object(8)\n",
      "memory usage: 4.2+ MB\n"
     ]
    }
   ],
   "source": [
    "df_estadosUnidos.info()"
   ]
  },
  {
   "cell_type": "markdown",
   "metadata": {},
   "source": [
    "---\n",
    "\n",
    "### Adicionando Identificação de País\n",
    "\n",
    "Após carregar os dados em DataFrames, adicionamos uma coluna `country` a cada um, atribuindo o nome do país correspondente. Essa etapa é fundamental para identificar a origem regional dos vídeos em análises combinadas do conjunto de dados unificado.\n",
    "\n",
    "---"
   ]
  },
  {
   "cell_type": "code",
   "execution_count": 50,
   "metadata": {},
   "outputs": [],
   "source": [
    "# Adicionando uma coluna de país a cada DataFrame\n",
    "df_canada['country'] = 'Canada'\n",
    "df_alemanha['country'] = 'Germany'\n",
    "df_franca['country'] = 'France'\n",
    "df_granBetanha['country'] = 'Great Britain'\n",
    "df_india['country'] = 'India'\n",
    "df_japao['country'] = 'Japan'\n",
    "df_coreiaSul['country'] = 'South Korea'\n",
    "df_mexico['country'] = 'Mexico'\n",
    "df_russia['country'] = 'Russia'\n",
    "df_estadosUnidos['country'] = 'United States'"
   ]
  },
  {
   "cell_type": "code",
   "execution_count": 53,
   "metadata": {},
   "outputs": [
    {
     "data": {
      "text/html": [
       "<div>\n",
       "<style scoped>\n",
       "    .dataframe tbody tr th:only-of-type {\n",
       "        vertical-align: middle;\n",
       "    }\n",
       "\n",
       "    .dataframe tbody tr th {\n",
       "        vertical-align: top;\n",
       "    }\n",
       "\n",
       "    .dataframe thead th {\n",
       "        text-align: right;\n",
       "    }\n",
       "</style>\n",
       "<table border=\"1\" class=\"dataframe\">\n",
       "  <thead>\n",
       "    <tr style=\"text-align: right;\">\n",
       "      <th></th>\n",
       "      <th>video_id</th>\n",
       "      <th>trending_date</th>\n",
       "      <th>title</th>\n",
       "      <th>channel_title</th>\n",
       "      <th>category_id</th>\n",
       "      <th>publish_time</th>\n",
       "      <th>tags</th>\n",
       "      <th>views</th>\n",
       "      <th>likes</th>\n",
       "      <th>dislikes</th>\n",
       "      <th>comment_count</th>\n",
       "      <th>thumbnail_link</th>\n",
       "      <th>comments_disabled</th>\n",
       "      <th>ratings_disabled</th>\n",
       "      <th>video_error_or_removed</th>\n",
       "      <th>description</th>\n",
       "      <th>country</th>\n",
       "    </tr>\n",
       "  </thead>\n",
       "  <tbody>\n",
       "    <tr>\n",
       "      <th>0</th>\n",
       "      <td>n1WpP7iowLc</td>\n",
       "      <td>17.14.11</td>\n",
       "      <td>Eminem - Walk On Water (Audio) ft. Beyoncé</td>\n",
       "      <td>EminemVEVO</td>\n",
       "      <td>10</td>\n",
       "      <td>2017-11-10T17:00:03.000Z</td>\n",
       "      <td>Eminem|\"Walk\"|\"On\"|\"Water\"|\"Aftermath/Shady/In...</td>\n",
       "      <td>17158579</td>\n",
       "      <td>787425</td>\n",
       "      <td>43420</td>\n",
       "      <td>125882</td>\n",
       "      <td>https://i.ytimg.com/vi/n1WpP7iowLc/default.jpg</td>\n",
       "      <td>False</td>\n",
       "      <td>False</td>\n",
       "      <td>False</td>\n",
       "      <td>Eminem's new track Walk on Water ft. Beyoncé i...</td>\n",
       "      <td>Canada</td>\n",
       "    </tr>\n",
       "  </tbody>\n",
       "</table>\n",
       "</div>"
      ],
      "text/plain": [
       "      video_id trending_date                                       title  \\\n",
       "0  n1WpP7iowLc      17.14.11  Eminem - Walk On Water (Audio) ft. Beyoncé   \n",
       "\n",
       "  channel_title  category_id              publish_time  \\\n",
       "0    EminemVEVO           10  2017-11-10T17:00:03.000Z   \n",
       "\n",
       "                                                tags     views   likes  \\\n",
       "0  Eminem|\"Walk\"|\"On\"|\"Water\"|\"Aftermath/Shady/In...  17158579  787425   \n",
       "\n",
       "   dislikes  comment_count                                  thumbnail_link  \\\n",
       "0     43420         125882  https://i.ytimg.com/vi/n1WpP7iowLc/default.jpg   \n",
       "\n",
       "   comments_disabled  ratings_disabled  video_error_or_removed  \\\n",
       "0              False             False                   False   \n",
       "\n",
       "                                         description country  \n",
       "0  Eminem's new track Walk on Water ft. Beyoncé i...  Canada  "
      ]
     },
     "execution_count": 53,
     "metadata": {},
     "output_type": "execute_result"
    }
   ],
   "source": [
    "#Verificando se a coluna foi inclusa corretamente - só mudar os arquivos.\n",
    "df_canada.head(1)"
   ]
  },
  {
   "cell_type": "markdown",
   "metadata": {},
   "source": [
    "---\n",
    "\n",
    "### Unificação dos DataFrames\n",
    "\n",
    "Com a lista de DataFrames preparada, incluindo os de Canadá, Alemanha, França, Grã-Bretanha, Índia, Japão, Coreia do Sul, México, Rússia e Estados Unidos, procedemos à concatenação desses em um único DataFrame, `df_unificado`. Essa unificação facilita a análise conjunta dos dados, permitindo uma visão abrangente das tendências do YouTube em diferentes regiões. Utilizamos o `ignore_index=True` para garantir uma indexação sequencial correta no DataFrame resultante.\n",
    "\n",
    "---"
   ]
  },
  {
   "cell_type": "code",
   "execution_count": 54,
   "metadata": {},
   "outputs": [],
   "source": [
    "# Lista de todos os DataFrames\n",
    "dfs = [df_canada, df_alemanha, df_franca, df_granBetanha, df_india,\n",
    "       df_japao, df_coreiaSul, df_mexico, df_russia, df_estadosUnidos]"
   ]
  },
  {
   "cell_type": "code",
   "execution_count": 55,
   "metadata": {},
   "outputs": [],
   "source": [
    "# Concatenar todos os DataFrames em um só\n",
    "df_unificado = pd.concat(dfs, ignore_index=True)"
   ]
  },
  {
   "cell_type": "code",
   "execution_count": 56,
   "metadata": {},
   "outputs": [
    {
     "data": {
      "text/html": [
       "<div>\n",
       "<style scoped>\n",
       "    .dataframe tbody tr th:only-of-type {\n",
       "        vertical-align: middle;\n",
       "    }\n",
       "\n",
       "    .dataframe tbody tr th {\n",
       "        vertical-align: top;\n",
       "    }\n",
       "\n",
       "    .dataframe thead th {\n",
       "        text-align: right;\n",
       "    }\n",
       "</style>\n",
       "<table border=\"1\" class=\"dataframe\">\n",
       "  <thead>\n",
       "    <tr style=\"text-align: right;\">\n",
       "      <th></th>\n",
       "      <th>video_id</th>\n",
       "      <th>trending_date</th>\n",
       "      <th>title</th>\n",
       "      <th>channel_title</th>\n",
       "      <th>category_id</th>\n",
       "      <th>publish_time</th>\n",
       "      <th>tags</th>\n",
       "      <th>views</th>\n",
       "      <th>likes</th>\n",
       "      <th>dislikes</th>\n",
       "      <th>comment_count</th>\n",
       "      <th>thumbnail_link</th>\n",
       "      <th>comments_disabled</th>\n",
       "      <th>ratings_disabled</th>\n",
       "      <th>video_error_or_removed</th>\n",
       "      <th>description</th>\n",
       "      <th>country</th>\n",
       "    </tr>\n",
       "  </thead>\n",
       "  <tbody>\n",
       "    <tr>\n",
       "      <th>0</th>\n",
       "      <td>n1WpP7iowLc</td>\n",
       "      <td>17.14.11</td>\n",
       "      <td>Eminem - Walk On Water (Audio) ft. Beyoncé</td>\n",
       "      <td>EminemVEVO</td>\n",
       "      <td>10</td>\n",
       "      <td>2017-11-10T17:00:03.000Z</td>\n",
       "      <td>Eminem|\"Walk\"|\"On\"|\"Water\"|\"Aftermath/Shady/In...</td>\n",
       "      <td>17158579</td>\n",
       "      <td>787425</td>\n",
       "      <td>43420</td>\n",
       "      <td>125882</td>\n",
       "      <td>https://i.ytimg.com/vi/n1WpP7iowLc/default.jpg</td>\n",
       "      <td>False</td>\n",
       "      <td>False</td>\n",
       "      <td>False</td>\n",
       "      <td>Eminem's new track Walk on Water ft. Beyoncé i...</td>\n",
       "      <td>Canada</td>\n",
       "    </tr>\n",
       "    <tr>\n",
       "      <th>1</th>\n",
       "      <td>0dBIkQ4Mz1M</td>\n",
       "      <td>17.14.11</td>\n",
       "      <td>PLUSH - Bad Unboxing Fan Mail</td>\n",
       "      <td>iDubbbzTV</td>\n",
       "      <td>23</td>\n",
       "      <td>2017-11-13T17:00:00.000Z</td>\n",
       "      <td>plush|\"bad unboxing\"|\"unboxing\"|\"fan mail\"|\"id...</td>\n",
       "      <td>1014651</td>\n",
       "      <td>127794</td>\n",
       "      <td>1688</td>\n",
       "      <td>13030</td>\n",
       "      <td>https://i.ytimg.com/vi/0dBIkQ4Mz1M/default.jpg</td>\n",
       "      <td>False</td>\n",
       "      <td>False</td>\n",
       "      <td>False</td>\n",
       "      <td>STill got a lot of packages. Probably will las...</td>\n",
       "      <td>Canada</td>\n",
       "    </tr>\n",
       "  </tbody>\n",
       "</table>\n",
       "</div>"
      ],
      "text/plain": [
       "      video_id trending_date                                       title  \\\n",
       "0  n1WpP7iowLc      17.14.11  Eminem - Walk On Water (Audio) ft. Beyoncé   \n",
       "1  0dBIkQ4Mz1M      17.14.11               PLUSH - Bad Unboxing Fan Mail   \n",
       "\n",
       "  channel_title  category_id              publish_time  \\\n",
       "0    EminemVEVO           10  2017-11-10T17:00:03.000Z   \n",
       "1     iDubbbzTV           23  2017-11-13T17:00:00.000Z   \n",
       "\n",
       "                                                tags     views   likes  \\\n",
       "0  Eminem|\"Walk\"|\"On\"|\"Water\"|\"Aftermath/Shady/In...  17158579  787425   \n",
       "1  plush|\"bad unboxing\"|\"unboxing\"|\"fan mail\"|\"id...   1014651  127794   \n",
       "\n",
       "   dislikes  comment_count                                  thumbnail_link  \\\n",
       "0     43420         125882  https://i.ytimg.com/vi/n1WpP7iowLc/default.jpg   \n",
       "1      1688          13030  https://i.ytimg.com/vi/0dBIkQ4Mz1M/default.jpg   \n",
       "\n",
       "   comments_disabled  ratings_disabled  video_error_or_removed  \\\n",
       "0              False             False                   False   \n",
       "1              False             False                   False   \n",
       "\n",
       "                                         description country  \n",
       "0  Eminem's new track Walk on Water ft. Beyoncé i...  Canada  \n",
       "1  STill got a lot of packages. Probably will las...  Canada  "
      ]
     },
     "execution_count": 56,
     "metadata": {},
     "output_type": "execute_result"
    }
   ],
   "source": [
    "df_unificado.head(2)"
   ]
  },
  {
   "cell_type": "code",
   "execution_count": 57,
   "metadata": {},
   "outputs": [
    {
     "data": {
      "text/html": [
       "<div>\n",
       "<style scoped>\n",
       "    .dataframe tbody tr th:only-of-type {\n",
       "        vertical-align: middle;\n",
       "    }\n",
       "\n",
       "    .dataframe tbody tr th {\n",
       "        vertical-align: top;\n",
       "    }\n",
       "\n",
       "    .dataframe thead th {\n",
       "        text-align: right;\n",
       "    }\n",
       "</style>\n",
       "<table border=\"1\" class=\"dataframe\">\n",
       "  <thead>\n",
       "    <tr style=\"text-align: right;\">\n",
       "      <th></th>\n",
       "      <th>video_id</th>\n",
       "      <th>trending_date</th>\n",
       "      <th>title</th>\n",
       "      <th>channel_title</th>\n",
       "      <th>category_id</th>\n",
       "      <th>publish_time</th>\n",
       "      <th>tags</th>\n",
       "      <th>views</th>\n",
       "      <th>likes</th>\n",
       "      <th>dislikes</th>\n",
       "      <th>comment_count</th>\n",
       "      <th>thumbnail_link</th>\n",
       "      <th>comments_disabled</th>\n",
       "      <th>ratings_disabled</th>\n",
       "      <th>video_error_or_removed</th>\n",
       "      <th>description</th>\n",
       "      <th>country</th>\n",
       "    </tr>\n",
       "  </thead>\n",
       "  <tbody>\n",
       "    <tr>\n",
       "      <th>375940</th>\n",
       "      <td>oV0zkMe1K8s</td>\n",
       "      <td>18.14.06</td>\n",
       "      <td>How Black Panther Should Have Ended</td>\n",
       "      <td>How It Should Have Ended</td>\n",
       "      <td>1</td>\n",
       "      <td>2018-05-17T17:00:04.000Z</td>\n",
       "      <td>Black Panther|\"HISHE\"|\"Marvel\"|\"Infinity War\"|...</td>\n",
       "      <td>5660813</td>\n",
       "      <td>192957</td>\n",
       "      <td>2846</td>\n",
       "      <td>13088</td>\n",
       "      <td>https://i.ytimg.com/vi/oV0zkMe1K8s/default.jpg</td>\n",
       "      <td>False</td>\n",
       "      <td>False</td>\n",
       "      <td>False</td>\n",
       "      <td>How Black Panther Should Have EndedWatch More ...</td>\n",
       "      <td>United States</td>\n",
       "    </tr>\n",
       "    <tr>\n",
       "      <th>375941</th>\n",
       "      <td>ooyjaVdt-jA</td>\n",
       "      <td>18.14.06</td>\n",
       "      <td>Official Call of Duty®: Black Ops 4 — Multipla...</td>\n",
       "      <td>Call of Duty</td>\n",
       "      <td>20</td>\n",
       "      <td>2018-05-17T17:09:38.000Z</td>\n",
       "      <td>call of duty|\"cod\"|\"activision\"|\"Black Ops 4\"</td>\n",
       "      <td>10306119</td>\n",
       "      <td>357079</td>\n",
       "      <td>212976</td>\n",
       "      <td>144795</td>\n",
       "      <td>https://i.ytimg.com/vi/ooyjaVdt-jA/default.jpg</td>\n",
       "      <td>False</td>\n",
       "      <td>False</td>\n",
       "      <td>False</td>\n",
       "      <td>Call of Duty: Black Ops 4 Multiplayer raises t...</td>\n",
       "      <td>United States</td>\n",
       "    </tr>\n",
       "  </tbody>\n",
       "</table>\n",
       "</div>"
      ],
      "text/plain": [
       "           video_id trending_date  \\\n",
       "375940  oV0zkMe1K8s      18.14.06   \n",
       "375941  ooyjaVdt-jA      18.14.06   \n",
       "\n",
       "                                                    title  \\\n",
       "375940                How Black Panther Should Have Ended   \n",
       "375941  Official Call of Duty®: Black Ops 4 — Multipla...   \n",
       "\n",
       "                   channel_title  category_id              publish_time  \\\n",
       "375940  How It Should Have Ended            1  2018-05-17T17:00:04.000Z   \n",
       "375941              Call of Duty           20  2018-05-17T17:09:38.000Z   \n",
       "\n",
       "                                                     tags     views   likes  \\\n",
       "375940  Black Panther|\"HISHE\"|\"Marvel\"|\"Infinity War\"|...   5660813  192957   \n",
       "375941      call of duty|\"cod\"|\"activision\"|\"Black Ops 4\"  10306119  357079   \n",
       "\n",
       "        dislikes  comment_count  \\\n",
       "375940      2846          13088   \n",
       "375941    212976         144795   \n",
       "\n",
       "                                        thumbnail_link  comments_disabled  \\\n",
       "375940  https://i.ytimg.com/vi/oV0zkMe1K8s/default.jpg              False   \n",
       "375941  https://i.ytimg.com/vi/ooyjaVdt-jA/default.jpg              False   \n",
       "\n",
       "        ratings_disabled  video_error_or_removed  \\\n",
       "375940             False                   False   \n",
       "375941             False                   False   \n",
       "\n",
       "                                              description        country  \n",
       "375940  How Black Panther Should Have EndedWatch More ...  United States  \n",
       "375941  Call of Duty: Black Ops 4 Multiplayer raises t...  United States  "
      ]
     },
     "execution_count": 57,
     "metadata": {},
     "output_type": "execute_result"
    }
   ],
   "source": [
    "df_unificado.tail(2)"
   ]
  },
  {
   "cell_type": "code",
   "execution_count": 59,
   "metadata": {},
   "outputs": [
    {
     "name": "stdout",
     "output_type": "stream",
     "text": [
      "<class 'pandas.core.frame.DataFrame'>\n",
      "RangeIndex: 375942 entries, 0 to 375941\n",
      "Data columns (total 17 columns):\n",
      " #   Column                  Non-Null Count   Dtype \n",
      "---  ------                  --------------   ----- \n",
      " 0   video_id                375942 non-null  object\n",
      " 1   trending_date           375942 non-null  object\n",
      " 2   title                   375942 non-null  object\n",
      " 3   channel_title           375942 non-null  object\n",
      " 4   category_id             375942 non-null  int64 \n",
      " 5   publish_time            375942 non-null  object\n",
      " 6   tags                    375942 non-null  object\n",
      " 7   views                   375942 non-null  int64 \n",
      " 8   likes                   375942 non-null  int64 \n",
      " 9   dislikes                375942 non-null  int64 \n",
      " 10  comment_count           375942 non-null  int64 \n",
      " 11  thumbnail_link          375942 non-null  object\n",
      " 12  comments_disabled       375942 non-null  bool  \n",
      " 13  ratings_disabled        375942 non-null  bool  \n",
      " 14  video_error_or_removed  375942 non-null  bool  \n",
      " 15  description             356464 non-null  object\n",
      " 16  country                 375942 non-null  object\n",
      "dtypes: bool(3), int64(5), object(9)\n",
      "memory usage: 41.2+ MB\n"
     ]
    }
   ],
   "source": [
    "df_unificado.info()"
   ]
  },
  {
   "cell_type": "markdown",
   "metadata": {},
   "source": [
    "---\n",
    "\n",
    "### Processamento de Dados JSON de Categorias do YouTube por País\n",
    "\n",
    "O objetivo deste script é ler vários arquivos JSON que contêm informações sobre categorias de vídeos do YouTube, extrair dados relevantes, concatenar todos os dados em um único DataFrame para análise.\n",
    "\n",
    "**Função de Processamento**\n",
    "\n",
    "A função `processar_json` é definida para ler e processar um único arquivo JSON. Ela recebe o nome do arquivo e o país correspondente como argumentos.\n",
    "\n",
    "**Processamento, Concatenação, Remoção Duplicados**\n",
    "\n",
    "O script processa todos os arquivos JSON listados no dicionário `categorias`, adiciona os DataFrames resultantes a uma lista e, em seguida, concatena essa lista em um único DataFrame e remove os duplicados.\n",
    "\n",
    "**Resultado**\n",
    "\n",
    "O DataFrame final `df_categorias_concatenado` com cada linha indicando o `id` e `title` da categoria.\n",
    "\n",
    "---"
   ]
  },
  {
   "cell_type": "code",
   "execution_count": 61,
   "metadata": {},
   "outputs": [
    {
     "name": "stdout",
     "output_type": "stream",
     "text": [
      "   id             title\n",
      "0   1  Film & Animation\n",
      "1   2  Autos & Vehicles\n",
      "2  10             Music\n",
      "3  15    Pets & Animals\n",
      "4  17            Sports\n"
     ]
    }
   ],
   "source": [
    "# Caminho para a pasta base de dados\n",
    "caminho_base = 'base_dados/'\n",
    "\n",
    "# Lista dos arquivos JSON\n",
    "arquivos_json = [\n",
    "    'CA_category_id.json',\n",
    "    'DE_category_id.json',\n",
    "    'FR_category_id.json',\n",
    "    'GB_category_id.json',\n",
    "    'IN_category_id.json',\n",
    "    'JP_category_id.json',\n",
    "    'KR_category_id.json',\n",
    "    'MX_category_id.json',\n",
    "    'RU_category_id.json',\n",
    "    'US_category_id.json',\n",
    "]\n",
    "\n",
    "def processar_json(nome_arquivo):\n",
    "    # Caminho completo para o arquivo\n",
    "    caminho_arquivo = f'{caminho_base}{nome_arquivo}'\n",
    "    \n",
    "    # Ler o arquivo JSON\n",
    "    with open(caminho_arquivo, 'r') as f:\n",
    "        dados_json = json.load(f)\n",
    "    \n",
    "    # Extrair informações das categorias\n",
    "    categorias = []\n",
    "    for item in dados_json['items']:\n",
    "        id_categoria = item['id']\n",
    "        titulo_categoria = item['snippet']['title']\n",
    "        categorias.append({'id': id_categoria, 'title': titulo_categoria})\n",
    "    \n",
    "    # Converter para DataFrame\n",
    "    return pd.DataFrame(categorias)\n",
    "\n",
    "# Lista para armazenar os dataframes\n",
    "dfs = []\n",
    "\n",
    "# Processar todos os arquivos e adicionar os dataframes à lista\n",
    "for nome_arquivo in arquivos_json:\n",
    "    dfs.append(processar_json(nome_arquivo))\n",
    "\n",
    "# Concatenar todos os dataframes em um único dataframe\n",
    "df_categorias_concatenado = pd.concat(dfs, ignore_index=True)\n",
    "\n",
    "# Remover duplicatas\n",
    "df_categorias_concatenado = df_categorias_concatenado.drop_duplicates(subset=['id'])\n",
    "\n",
    "# Mostrar as primeiras linhas do dataframe concatenado para verificar\n",
    "print(df_categorias_concatenado.head())\n"
   ]
  },
  {
   "cell_type": "code",
   "execution_count": 62,
   "metadata": {},
   "outputs": [
    {
     "name": "stdout",
     "output_type": "stream",
     "text": [
      "<class 'pandas.core.frame.DataFrame'>\n",
      "Index: 32 entries, 0 to 295\n",
      "Data columns (total 2 columns):\n",
      " #   Column  Non-Null Count  Dtype \n",
      "---  ------  --------------  ----- \n",
      " 0   id      32 non-null     object\n",
      " 1   title   32 non-null     object\n",
      "dtypes: object(2)\n",
      "memory usage: 768.0+ bytes\n"
     ]
    }
   ],
   "source": [
    "df_categorias_concatenado.info()"
   ]
  },
  {
   "cell_type": "markdown",
   "metadata": {},
   "source": [
    "---\n",
    "### Documentação do Processo de Tratamento de Valores Nulos na Coluna \"Description\"\n",
    "\n",
    "**Verificação de Valores Nulos**\n",
    "\n",
    "Inicialmente, foi realizada uma verificação para identificar a quantidade de valores nulos presentes na coluna `description` do DataFrame unificado. Isso foi feito utilizando o método `isnull().sum()`, que fornece a contagem de valores nulos por coluna.\n",
    "\n",
    "Esta verificação revelou que havia **19478** valores nulos na coluna `description`.\n",
    "\n",
    "**Tratamento dos Dados Nulos**\n",
    "\n",
    "Para tratar os dados nulos na coluna `description`, adotei a abordagem de preencher esses valores com um texto padrão, `\"No description\"`. Essa decisão foi tomada para manter a integridade do conjunto de dados, assegurando que todas as linhas pudessem ser utilizadas em análises subsequentes sem a necessidade de excluir registros devido à ausência de descrições.\n",
    "\n",
    "\n",
    "**Considerações sobre a Abordagem Adotada**\n",
    "\n",
    "É importante destacar que, dependendo da natureza da análise a ser realizada, o preenchimento de campos nulos com um valor padrão pode não ser o ideal. Especificamente, em análises de sentimentos ou outras formas de análise de texto que dependem do conteúdo das descrições, introduzir um texto padrão pode resultar em viés. Nesses casos, outras estratégias de tratamento de dados nulos podem ser mais adequadas, como a exclusão de registros nulos ou a imputação baseada em métodos mais sofisticados.\n",
    "\n",
    "**Verificação Pós-Tratamento**\n",
    "\n",
    "Após o tratamento dos valores nulos, realizei uma nova consulta para verificar a eficácia da abordagem adotada. A contagem de valores nulos por coluna confirmou que não havia mais valores nulos na coluna `description`, demonstrando que a abordagem de preenchimento foi aplicada com sucesso:\n",
    "\n",
    "---"
   ]
  },
  {
   "cell_type": "code",
   "execution_count": 63,
   "metadata": {},
   "outputs": [
    {
     "data": {
      "text/plain": [
       "video_id                      0\n",
       "trending_date                 0\n",
       "title                         0\n",
       "channel_title                 0\n",
       "category_id                   0\n",
       "publish_time                  0\n",
       "tags                          0\n",
       "views                         0\n",
       "likes                         0\n",
       "dislikes                      0\n",
       "comment_count                 0\n",
       "thumbnail_link                0\n",
       "comments_disabled             0\n",
       "ratings_disabled              0\n",
       "video_error_or_removed        0\n",
       "description               19478\n",
       "country                       0\n",
       "dtype: int64"
      ]
     },
     "execution_count": 63,
     "metadata": {},
     "output_type": "execute_result"
    }
   ],
   "source": [
    "#Verificando o quantitativo de nulos na coluna descriptions\n",
    "df_unificado.isnull().sum() #-- 19478 nulls em descriptions"
   ]
  },
  {
   "cell_type": "code",
   "execution_count": 64,
   "metadata": {},
   "outputs": [],
   "source": [
    "#Tratando os dados Nulos da coluna description, a abordagem adotada foi de incluir um texto padrão.\n",
    "#Dependendo da análise que for realizada, o preenchimento do campo com valor padrão pode não ser o ideal, principalmente se for usá-lo para uma análise de sentimentos.\n",
    "#Para que não se introduza viés.\n",
    "df_unificado['description'] = df_unificado['description'].fillna('No description')\n"
   ]
  },
  {
   "cell_type": "code",
   "execution_count": 65,
   "metadata": {},
   "outputs": [
    {
     "data": {
      "text/plain": [
       "video_id                  0\n",
       "trending_date             0\n",
       "title                     0\n",
       "channel_title             0\n",
       "category_id               0\n",
       "publish_time              0\n",
       "tags                      0\n",
       "views                     0\n",
       "likes                     0\n",
       "dislikes                  0\n",
       "comment_count             0\n",
       "thumbnail_link            0\n",
       "comments_disabled         0\n",
       "ratings_disabled          0\n",
       "video_error_or_removed    0\n",
       "description               0\n",
       "country                   0\n",
       "dtype: int64"
      ]
     },
     "execution_count": 65,
     "metadata": {},
     "output_type": "execute_result"
    }
   ],
   "source": [
    "#Consulta após tratamento dos nulos\n",
    "df_unificado.isnull().sum()"
   ]
  },
  {
   "cell_type": "markdown",
   "metadata": {},
   "source": [
    "---\n",
    "### Transformação de Datas no DataFrame\n",
    "\n",
    "**`Trending Date`:**\n",
    "\n",
    "Eu transformei a coluna `trending_date` em um objeto date usando o formato %y.%d.%m. Isso foi feito para converter a data de um formato de string para um tipo de data mais apropriado para manipulação e análise. O formato especificado indica que a data original estava em um formato de ano com dois dígitos, seguido pelo dia e mês. Essa transformação é importante porque a coluna `trending_date` agora contém apenas as informações de data, sem a hora, o que é ideal para uma coluna que representa a data em que o vídeo se tornou tendência. A ausência da hora reflete a natureza dessa data, onde o tempo específico do dia não é relevante.\n",
    "\n",
    "**`Publish Time`:**\n",
    "\n",
    "A coluna `publish_time` original continha informações de data e hora combinadas em uma única string. Para facilitar a análise, eu dividi essa coluna em três colunas distintas:\n",
    "\n",
    "`publish_date`: Esta coluna foi criada para conter apenas a data de publicação do vídeo. Ao extrair a parte da data da string `publish_time`, consegui isolar a data, permitindo análises focadas exclusivamente no dia da publicação.\n",
    "\n",
    "`publish_time`: Após a extração da data, atualizei a coluna `publish_time` para armazenar apenas a hora da publicação. Isso separa claramente a informação da hora do restante da data, facilitando análises que dependem do horário específico em que os vídeos foram publicados.\n",
    "\n",
    "`publish_hour`: Para análises que exploram padrões relacionados à hora da publicação, extraí a hora como um número inteiro e a armazenei nesta coluna. Isso permite investigações sobre como o horário de publicação pode afetar a popularidade ou a tendência de um vídeo.\n",
    "\n",
    "Essas transformações são cruciais para a preparação dos dados, permitindo uma análise mais detalhada e flexível das informações temporais associadas aos vídeos do YouTube.\n",
    "\n",
    "---"
   ]
  },
  {
   "cell_type": "code",
   "execution_count": 66,
   "metadata": {},
   "outputs": [
    {
     "name": "stdout",
     "output_type": "stream",
     "text": [
      "Número de entradas com datas inválidas após a correção: 0\n"
     ]
    }
   ],
   "source": [
    "# Corrigindo a transformação para a coluna 'trending_date' com o formato correto\n",
    "df_unificado['trending_date'] = pd.to_datetime(df_unificado['trending_date'], format='%y.%d.%m', errors='coerce')\n",
    "\n",
    "# Verificar se ainda existem entradas com datas inválidas após a correção\n",
    "entradas_invalidas_apos_correcao = df_unificado[df_unificado['trending_date'].isna()]\n",
    "print(\"Número de entradas com datas inválidas após a correção:\", len(entradas_invalidas_apos_correcao))\n",
    "\n",
    "# Para 'publish_time', a conversão anterior estava correta, então não precisamos mudar\n",
    "df_unificado['publish_time'] = pd.to_datetime(df_unificado['publish_time'], format='%Y-%m-%dT%H:%M:%S.%fZ')\n",
    "df_unificado['publish_date'] = df_unificado['publish_time'].dt.date\n",
    "df_unificado['publish_hour'] = df_unificado['publish_time'].dt.hour\n"
   ]
  },
  {
   "cell_type": "code",
   "execution_count": 67,
   "metadata": {},
   "outputs": [
    {
     "name": "stdout",
     "output_type": "stream",
     "text": [
      "<DatetimeArray>\n",
      "['2017-11-14 00:00:00', '2017-11-15 00:00:00', '2017-11-16 00:00:00',\n",
      " '2017-11-17 00:00:00', '2017-11-18 00:00:00', '2017-11-19 00:00:00',\n",
      " '2017-11-20 00:00:00', '2017-11-21 00:00:00', '2017-11-22 00:00:00',\n",
      " '2017-11-23 00:00:00']\n",
      "Length: 10, dtype: datetime64[ns]\n"
     ]
    }
   ],
   "source": [
    "# Exemplo de como inspecionar os valores únicos ou amostras da coluna para verificar o formato\n",
    "print(df_unificado['trending_date'].unique()[:10])\n",
    "\n",
    "# Caso a análise revele padrões mistos ou inesperados, ajuste a lógica de conversão conforme necessário\n"
   ]
  },
  {
   "cell_type": "code",
   "execution_count": 68,
   "metadata": {},
   "outputs": [],
   "source": [
    "min_date = df_unificado['trending_date'].min()\n",
    "df_unificado['trending_date'] = df_unificado['trending_date'].fillna(min_date)\n"
   ]
  },
  {
   "cell_type": "code",
   "execution_count": 69,
   "metadata": {},
   "outputs": [
    {
     "name": "stdout",
     "output_type": "stream",
     "text": [
      "<DatetimeArray>\n",
      "['2017-11-14 00:00:00', '2017-11-15 00:00:00', '2017-11-16 00:00:00',\n",
      " '2017-11-17 00:00:00', '2017-11-18 00:00:00', '2017-11-19 00:00:00',\n",
      " '2017-11-20 00:00:00', '2017-11-21 00:00:00', '2017-11-22 00:00:00',\n",
      " '2017-11-23 00:00:00']\n",
      "Length: 10, dtype: datetime64[ns]\n"
     ]
    }
   ],
   "source": [
    "print(df_unificado['trending_date'].unique()[:10])\n"
   ]
  },
  {
   "cell_type": "code",
   "execution_count": 70,
   "metadata": {},
   "outputs": [],
   "source": [
    "\n",
    "# Para 'publish_time', parece que o formato está correto baseado no exemplo fornecido\n",
    "df_unificado['publish_time'] = pd.to_datetime(df_unificado['publish_time'], format='%Y-%dT%H:%M:%S.%fZ-%m')\n",
    "df_unificado['publish_date'] = df_unificado['publish_time'].dt.date\n",
    "df_unificado['publish_hour'] = df_unificado['publish_time'].dt.hour\n"
   ]
  },
  {
   "cell_type": "code",
   "execution_count": 71,
   "metadata": {},
   "outputs": [
    {
     "name": "stdout",
     "output_type": "stream",
     "text": [
      "<class 'pandas.core.frame.DataFrame'>\n",
      "RangeIndex: 375942 entries, 0 to 375941\n",
      "Data columns (total 19 columns):\n",
      " #   Column                  Non-Null Count   Dtype         \n",
      "---  ------                  --------------   -----         \n",
      " 0   video_id                375942 non-null  object        \n",
      " 1   trending_date           375942 non-null  datetime64[ns]\n",
      " 2   title                   375942 non-null  object        \n",
      " 3   channel_title           375942 non-null  object        \n",
      " 4   category_id             375942 non-null  int64         \n",
      " 5   publish_time            375942 non-null  datetime64[ns]\n",
      " 6   tags                    375942 non-null  object        \n",
      " 7   views                   375942 non-null  int64         \n",
      " 8   likes                   375942 non-null  int64         \n",
      " 9   dislikes                375942 non-null  int64         \n",
      " 10  comment_count           375942 non-null  int64         \n",
      " 11  thumbnail_link          375942 non-null  object        \n",
      " 12  comments_disabled       375942 non-null  bool          \n",
      " 13  ratings_disabled        375942 non-null  bool          \n",
      " 14  video_error_or_removed  375942 non-null  bool          \n",
      " 15  description             375942 non-null  object        \n",
      " 16  country                 375942 non-null  object        \n",
      " 17  publish_date            375942 non-null  object        \n",
      " 18  publish_hour            375942 non-null  int32         \n",
      "dtypes: bool(3), datetime64[ns](2), int32(1), int64(5), object(8)\n",
      "memory usage: 45.5+ MB\n"
     ]
    }
   ],
   "source": [
    "df_unificado.info()"
   ]
  },
  {
   "cell_type": "markdown",
   "metadata": {},
   "source": [
    "---\n",
    "\n",
    "### Verificação e Remoção de Dados Duplicados\n",
    "\n",
    "Neste processo, verificamos a presença de dados duplicados no DataFrame `df_unificado` e os removemos para garantir a integridade e a precisão da nossa análise.\n",
    "\n",
    "**Verificação de Duplicatas**\n",
    "\n",
    "Primeiramente, utilizamos o método `duplicated()` para identificar e contar linhas duplicadas no DataFrame. Cada linha é verificada contra as anteriores para determinar se é uma duplicata.\n",
    "\n",
    "**Remoção de Duplicatas**\n",
    "\n",
    "Após a identificação, procedemos com a remoção dessas duplicatas usando o método `drop_duplicates()`, o qual retorna um novo DataFrame sem as linhas duplicadas.\n",
    "\n",
    "Finalizamos exibindo o número de linhas do novo DataFrame sem duplicatas, proporcionando um conjunto de dados mais limpo para análises futuras.\n",
    "\n",
    "**Resultado**\n",
    "A saída nos informa o número de duplicatas encontradas e o total de linhas no DataFrame após a limpeza.\n",
    "\n",
    "Com essas etapas, asseguramos que nosso DataFrame está livre de dados repetidos, o que é essencial para manter a qualidade dos dados e a validade das análises subsequentes.\n",
    "\n",
    "---"
   ]
  },
  {
   "cell_type": "code",
   "execution_count": 72,
   "metadata": {},
   "outputs": [
    {
     "name": "stdout",
     "output_type": "stream",
     "text": [
      "Existem 12570 linhas duplicadas no DataFrame.\n"
     ]
    }
   ],
   "source": [
    "# Verifica se há linhas duplicadas\n",
    "duplicadas = df_unificado.duplicated()\n",
    "\n",
    "# Conta o número de linhas duplicadas\n",
    "num_duplicadas = duplicadas.sum()\n",
    "\n",
    "# Exibe o número de linhas duplicadas\n",
    "print(f\"Existem {num_duplicadas} linhas duplicadas no DataFrame.\")\n"
   ]
  },
  {
   "cell_type": "code",
   "execution_count": 74,
   "metadata": {},
   "outputs": [
    {
     "name": "stdout",
     "output_type": "stream",
     "text": [
      "O DataFrame agora tem 363372 linhas após remover duplicatas.\n"
     ]
    }
   ],
   "source": [
    "# Remove linhas duplicadas\n",
    "df = df_unificado.drop_duplicates()\n",
    "\n",
    "# Exibe o novo tamanho do DataFrame\n",
    "print(f\"O DataFrame agora tem {df.shape[0]} linhas após remover duplicatas.\")\n"
   ]
  },
  {
   "cell_type": "code",
   "execution_count": 75,
   "metadata": {},
   "outputs": [
    {
     "name": "stdout",
     "output_type": "stream",
     "text": [
      "video_id                          object\n",
      "trending_date             datetime64[ns]\n",
      "title                             object\n",
      "channel_title                     object\n",
      "category_id                        int64\n",
      "publish_time              datetime64[ns]\n",
      "tags                              object\n",
      "views                              int64\n",
      "likes                              int64\n",
      "dislikes                           int64\n",
      "comment_count                      int64\n",
      "thumbnail_link                    object\n",
      "comments_disabled                  int32\n",
      "ratings_disabled                   int32\n",
      "video_error_or_removed             int32\n",
      "description                       object\n",
      "country                           object\n",
      "publish_date                      object\n",
      "publish_hour                       int32\n",
      "dtype: object\n"
     ]
    }
   ],
   "source": [
    "\n",
    "#Converter booleanos para inteiros se necessário\n",
    "df_unificado['comments_disabled'] = df_unificado['comments_disabled'].astype(int)\n",
    "df_unificado['ratings_disabled'] = df_unificado['ratings_disabled'].astype(int)\n",
    "df_unificado['video_error_or_removed'] = df_unificado['video_error_or_removed'].astype(int)\n",
    "\n",
    "# Verificar os tipos de dados após as conversões\n",
    "print(df_unificado.dtypes)\n"
   ]
  },
  {
   "cell_type": "code",
   "execution_count": 76,
   "metadata": {},
   "outputs": [
    {
     "name": "stdout",
     "output_type": "stream",
     "text": [
      "<class 'pandas.core.frame.DataFrame'>\n",
      "RangeIndex: 375942 entries, 0 to 375941\n",
      "Data columns (total 19 columns):\n",
      " #   Column                  Non-Null Count   Dtype         \n",
      "---  ------                  --------------   -----         \n",
      " 0   video_id                375942 non-null  object        \n",
      " 1   trending_date           375942 non-null  datetime64[ns]\n",
      " 2   title                   375942 non-null  object        \n",
      " 3   channel_title           375942 non-null  object        \n",
      " 4   category_id             375942 non-null  int64         \n",
      " 5   publish_time            375942 non-null  datetime64[ns]\n",
      " 6   tags                    375942 non-null  object        \n",
      " 7   views                   375942 non-null  int64         \n",
      " 8   likes                   375942 non-null  int64         \n",
      " 9   dislikes                375942 non-null  int64         \n",
      " 10  comment_count           375942 non-null  int64         \n",
      " 11  thumbnail_link          375942 non-null  object        \n",
      " 12  comments_disabled       375942 non-null  int32         \n",
      " 13  ratings_disabled        375942 non-null  int32         \n",
      " 14  video_error_or_removed  375942 non-null  int32         \n",
      " 15  description             375942 non-null  object        \n",
      " 16  country                 375942 non-null  object        \n",
      " 17  publish_date            375942 non-null  object        \n",
      " 18  publish_hour            375942 non-null  int32         \n",
      "dtypes: datetime64[ns](2), int32(4), int64(5), object(8)\n",
      "memory usage: 48.8+ MB\n"
     ]
    }
   ],
   "source": [
    "df_unificado.info()"
   ]
  },
  {
   "cell_type": "code",
   "execution_count": 77,
   "metadata": {},
   "outputs": [
    {
     "name": "stdout",
     "output_type": "stream",
     "text": [
      "video_id                          object\n",
      "trending_date             datetime64[ns]\n",
      "title                             object\n",
      "channel_title                     object\n",
      "category_id                       object\n",
      "publish_time              datetime64[ns]\n",
      "tags                              object\n",
      "views                              int64\n",
      "likes                              int64\n",
      "dislikes                           int64\n",
      "comment_count                      int64\n",
      "thumbnail_link                    object\n",
      "comments_disabled                  int32\n",
      "ratings_disabled                   int32\n",
      "video_error_or_removed             int32\n",
      "description                       object\n",
      "country                           object\n",
      "publish_date              datetime64[ns]\n",
      "publish_hour                       int32\n",
      "dtype: object\n"
     ]
    }
   ],
   "source": [
    "# Alterar o tipo de dado de 'category_id' para 'object' (string)\n",
    "df_unificado['category_id'] = df_unificado['category_id'].astype('object')\n",
    "\n",
    "# Alterar o tipo de dado de 'video_id' para 'object' (string)\n",
    "# Nota: 'video_id' já deve ser do tipo 'object', mas a linha abaixo garante que seja tratado explicitamente como tal\n",
    "df_unificado['video_id'] = df_unificado['video_id'].astype('object')\n",
    "\n",
    "# Opcional: Se você também deseja converter 'publish_date' para datetime\n",
    "df_unificado['publish_date'] = pd.to_datetime(df_unificado['publish_date'])\n",
    "\n",
    "# Verificar novamente os tipos de dados para confirmar as alterações\n",
    "print(df_unificado.dtypes)\n"
   ]
  },
  {
   "cell_type": "markdown",
   "metadata": {},
   "source": [
    "---\n",
    "\n",
    "## Resumo da Análise Estatística das Métricas de Vídeos\n",
    "\n",
    "Nesta etapa da análise, concentramos nossa atenção nas métricas-chave dos vídeos, incluindo `views` (visualizações), `likes` (curtidas), `dislikes` (descurtidas) e `comment_count` (contagem de comentários). O objetivo principal foi compreender as relações entre essas métricas por meio de uma análise de correlação.\n",
    "\n",
    "Para isso, criamos um mapa de calor (heatmap) que representa visualmente a matriz de correlação entre as métricas selecionadas. As características importantes desta análise incluem:\n",
    "\n",
    "- **Mapa de Calor:** O mapa de calor fornece uma representação gráfica das correlações entre as métricas. Ele usa cores e anotações para destacar os níveis de correlação entre as variáveis.\n",
    "\n",
    "- **Coeficientes de Correlação:** As anotações no mapa de calor exibem os coeficientes de correlação entre as métricas. Esses coeficientes variam de -1 (correlação negativa perfeita) a 1 (correlação positiva perfeita), com 0 indicando nenhuma correlação.\n",
    "\n",
    "- **Interpretação:** A análise da matriz de correlação nos permite responder a perguntas sobre as relações entre as métricas. Por exemplo, uma correlação positiva forte entre `views` e `likes` sugere que vídeos com mais visualizações tendem a receber mais curtidas.\n",
    "\n",
    "Esta análise estatística é uma etapa valiosa para compreender as métricas-chave dos vídeos e pode servir como base para análises mais aprofundadas sobre o desempenho e popularidade dos vídeos no YouTube.\n",
    "\n",
    "---"
   ]
  },
  {
   "cell_type": "code",
   "execution_count": 78,
   "metadata": {},
   "outputs": [
    {
     "data": {
      "text/plain": [
       "<Axes: >"
      ]
     },
     "execution_count": 78,
     "metadata": {},
     "output_type": "execute_result"
    },
    {
     "data": {
      "image/png": "[encoded data removed]",
      "text/plain": [
       "<Figure size 800x800 with 2 Axes>"
      ]
     },
     "metadata": {},
     "output_type": "display_data"
    }
   ],
   "source": [
    "columns_show=['views','likes','dislikes','comment_count']\n",
    "\n",
    "f, ax = plt.subplots(figsize=(8, 8))\n",
    "corr = df[columns_show].corr()\n",
    "\n",
    "sns.heatmap(corr, mask=np.zeros_like(corr, dtype=np.bool_), cmap=sns.diverging_palette(220, 10, as_cmap=True), square=True, ax=ax, annot=True)\n"
   ]
  },
  {
   "cell_type": "markdown",
   "metadata": {},
   "source": [
    "---\n",
    "\n",
    "### Análise do Mapa de Calor de Correlação\n",
    "\n",
    "O mapa de calor exibe a matriz de correlação para as variáveis 'views', 'likes', 'dislikes' e 'comment_count' do df_unificado do Youtube. Cada célula mostra o coeficiente de correlação entre duas variáveis, variando de -1 a 1, onde 1 indica correlação perfeita positiva, -1 indica correlação perfeita negativa e 0 indica nenhuma correlação.\n",
    "\n",
    "**Observações Principais**\n",
    "\n",
    "- **Views e Likes**: Existe uma forte correlação positiva (0.78) entre 'views' e 'likes', o que sugere que vídeos com mais visualizações tendem a receber mais curtidas.\n",
    "\n",
    "- **Views e Dislikes**: A correlação entre 'views' e 'dislikes' é mais fraca (0.42), mas ainda positiva, indicando que vídeos com mais visualizações podem receber mais dislikes, embora a relação não seja tão forte quanto a de 'likes'.\n",
    "\n",
    "- **Views e Comment Count**: A correlação de 0.51 entre 'views' e 'comment_count' mostra uma relação positiva moderada, indicando que vídeos mais visualizados tendem a ter mais comentários.\n",
    "\n",
    "- **Likes e Dislikes**: Existe uma correlação moderada (0.45) entre 'likes' e 'dislikes', o que pode ser interpretado como vídeos que provocam reações também tendem a receber mais reações de ambos os tipos.\n",
    "\n",
    "- **Likes e Comment Count**: A correlação entre 'likes' e 'comment_count' é forte (0.79), sugerindo que vídeos com muitas curtidas também tendem a ter muitos comentários.\n",
    "\n",
    "- **Dislikes e Comment Count**: A correlação entre 'dislikes' e 'comment_count' é substancial (0.71), o que pode indicar que vídeos que recebem muitos dislikes também incentivam os usuários a deixarem comentários, possivelmente como forma de expressar descontentamento ou discussão.\n",
    "\n",
    "**Conclusão**\n",
    "\n",
    "As métricas de engajamento (likes, dislikes, e comment_count) estão todas positivamente correlacionadas umas com as outras, o que indica que quando um vídeo recebe muita atenção em uma dessas métricas, é provável que receba atenção semelhante nas outras. A variável 'views' está positivamente correlacionada com todas as outras variáveis, reforçando a noção de que a visibilidade de um vídeo está ligada ao seu nível de engajamento.\n",
    "\n",
    "---\n"
   ]
  },
  {
   "cell_type": "markdown",
   "metadata": {},
   "source": [
    "\n",
    "## Análise de Regressão das Métricas de Engajamento no YouTube\n",
    "\n",
    "Neste segmento da análise, dediquei-me a explorar a relação entre várias métricas de engajamento de vídeos no YouTube, como `likes` (curtidas), `dislikes` (descurtidas), e `comment_count` (contagem de comentários), e como elas influenciam a métrica de `views` (visualizações). O foco foi estabelecer um modelo de regressão linear múltipla para quantificar essas relações e oferecer insights sobre a dinâmica do engajamento dos espectadores.\n",
    "\n",
    "### Configuração e Resultados do Modelo de Regressão\n",
    "\n",
    "Utilizando a biblioteca `statsmodels` no Python, construí um modelo de regressão linear múltipla com as seguintes etapas principais:\n",
    "\n",
    "- **Seleção de Variáveis:** Optei por `views` como a variável dependente, buscando entender como é afetada pelas variáveis independentes `likes`, `dislikes`, e `comment_count`.\n",
    "- **Correlação entre Variáveis Independentes:** Antes de ajustar o modelo, examinei a correlação entre as variáveis independentes para verificar a multicolinearidade. A análise revelou correlações significativas, mas decidi prosseguir com todas as variáveis para entender seus impactos individuais.\n",
    "- **Ajuste do Modelo:** Com as variáveis selecionadas, ajustei o modelo de regressão linear, incluindo uma constante para representar o intercepto.\n",
    "- **Análise dos Resultados:** O modelo apresentou um R-squared de 0.698, indicando que cerca de 70% da variabilidade nas `views` pode ser explicada pelas variáveis de engajamento selecionadas.\n",
    "\n",
    "### Interpretação dos Coeficientes\n",
    "\n",
    "- **Likes:** Cada curtida adicional está associada a um aumento de aproximadamente 48 `views`, destacando a importância das curtidas na promoção da visibilidade do vídeo.\n",
    "- **Dislikes:** De forma surpreendente, cada descurtida também está associada a um aumento nas `views` (aproximadamente 114), sugerindo que o engajamento negativo ainda pode aumentar a exposição do vídeo.\n",
    "- **Comment Count:** Contrariando as expectativas, um aumento no número de comentários mostrou-se associado a uma diminuição nas `views`. Esse resultado negativo (-176.6779) levanta questões interessantes sobre a natureza do conteúdo que gera muitos comentários.\n",
    "\n",
    "### Considerações Finais\n",
    "\n",
    "Esta análise de regressão oferece uma visão valiosa sobre como diferentes formas de engajamento estão relacionadas às visualizações de vídeos no YouTube. Os resultados sublinham a complexidade do engajamento dos espectadores e seu impacto na popularidade dos vídeos. Embora a presença de multicolinearidade e a não normalidade dos resíduos sugiram cautela na interpretação dos coeficientes, o modelo fornece uma base sólida para investigações futuras e estratégias de otimização de conteúdo.\n",
    "\n",
    "---"
   ]
  },
  {
   "cell_type": "code",
   "execution_count": 79,
   "metadata": {},
   "outputs": [
    {
     "name": "stdout",
     "output_type": "stream",
     "text": [
      "                  likes  dislikes  comment_count\n",
      "likes          1.000000  0.454033        0.79092\n",
      "dislikes       0.454033  1.000000        0.71262\n",
      "comment_count  0.790920  0.712620        1.00000\n",
      "                            OLS Regression Results                            \n",
      "==============================================================================\n",
      "Dep. Variable:                  views   R-squared:                       0.698\n",
      "Model:                            OLS   Adj. R-squared:                  0.698\n",
      "Method:                 Least Squares   F-statistic:                 2.795e+05\n",
      "Date:                Sat, 10 Feb 2024   Prob (F-statistic):               0.00\n",
      "Time:                        19:48:51   Log-Likelihood:            -6.0354e+06\n",
      "No. Observations:              363372   AIC:                         1.207e+07\n",
      "Df Residuals:                  363368   BIC:                         1.207e+07\n",
      "Df Model:                           3                                         \n",
      "Covariance Type:            nonrobust                                         \n",
      "=================================================================================\n",
      "                    coef    std err          t      P>|t|      [0.025      0.975]\n",
      "---------------------------------------------------------------------------------\n",
      "const          1.318e+04   6735.359      1.957      0.050     -17.009    2.64e+04\n",
      "likes            48.0190      0.067    719.392      0.000      47.888      48.150\n",
      "dislikes        113.9417      0.423    269.075      0.000     113.112     114.772\n",
      "comment_count  -176.6779      0.554   -318.997      0.000    -177.763    -175.592\n",
      "==============================================================================\n",
      "Omnibus:                   786707.337   Durbin-Watson:                   1.891\n",
      "Prob(Omnibus):                  0.000   Jarque-Bera (JB):      13640210551.849\n",
      "Skew:                          18.999   Prob(JB):                         0.00\n",
      "Kurtosis:                     951.401   Cond. No.                     1.77e+05\n",
      "==============================================================================\n",
      "\n",
      "Notes:\n",
      "[1] Standard Errors assume that the covariance matrix of the errors is correctly specified.\n",
      "[2] The condition number is large, 1.77e+05. This might indicate that there are\n",
      "strong multicollinearity or other numerical problems.\n"
     ]
    }
   ],
   "source": [
    "import pandas as pd\n",
    "import statsmodels.api as sm\n",
    "\n",
    "# Selecionar as variáveis de interesse\n",
    "df_variaveis = df[['views', 'likes', 'dislikes', 'comment_count']]\n",
    "\n",
    "# Verificar a correlação entre as variáveis independentes\n",
    "correlacao = df_variaveis[['likes', 'dislikes', 'comment_count']].corr()\n",
    "print(correlacao)\n",
    "\n",
    "# Preparar os dados para a regressão\n",
    "X = df_variaveis[['likes', 'dislikes', 'comment_count']]  # Variáveis independentes\n",
    "y = df_variaveis['views']  # Variável dependente\n",
    "\n",
    "# Adicionando uma constante ao modelo (intercepto)\n",
    "X = sm.add_constant(X)\n",
    "\n",
    "# Ajustar o modelo de regressão linear\n",
    "modelo = sm.OLS(y, X).fit()\n",
    "\n",
    "# Ver os resultados do modelo\n",
    "print(modelo.summary())"
   ]
  },
  {
   "cell_type": "markdown",
   "metadata": {},
   "source": [
    "---\n",
    "# Análise de Cluster dos Vídeos do YouTube - focando nas métricas de engajamento — likes, dislikes e comment_count"
   ]
  },
  {
   "cell_type": "code",
   "execution_count": 80,
   "metadata": {},
   "outputs": [
    {
     "data": {
      "image/png": "[encoded data removed]",
      "text/plain": [
       "<Figure size 800x400 with 1 Axes>"
      ]
     },
     "metadata": {},
     "output_type": "display_data"
    },
    {
     "name": "stderr",
     "output_type": "stream",
     "text": [
      "C:\\Users\\Nayar\\AppData\\Local\\Temp\\ipykernel_16856\\4225842348.py:32: SettingWithCopyWarning: \n",
      "A value is trying to be set on a copy of a slice from a DataFrame.\n",
      "Try using .loc[row_indexer,col_indexer] = value instead\n",
      "\n",
      "See the caveats in the documentation: https://pandas.pydata.org/pandas-docs/stable/user_guide/indexing.html#returning-a-view-versus-a-copy\n",
      "  df['cluster'] = clusters\n"
     ]
    },
    {
     "data": {
      "image/png": "[encoded data removed]",
      "text/plain": [
       "<Figure size 1000x600 with 1 Axes>"
      ]
     },
     "metadata": {},
     "output_type": "display_data"
    }
   ],
   "source": [
    "from sklearn.cluster import KMeans\n",
    "from sklearn.preprocessing import StandardScaler\n",
    "import matplotlib.pyplot as plt\n",
    "import seaborn as sns\n",
    "import numpy as np\n",
    "\n",
    "# Preparação dos dados\n",
    "features = df[['likes', 'dislikes', 'comment_count']]\n",
    "scaler = StandardScaler()\n",
    "features_scaled = scaler.fit_transform(features)\n",
    "\n",
    "# Método do Cotovelo para encontrar o k ideal\n",
    "inertia = []\n",
    "for k in range(1, 11):\n",
    "    kmeans = KMeans(n_clusters=k, random_state=42)\n",
    "    kmeans.fit(features_scaled)\n",
    "    inertia.append(kmeans.inertia_)\n",
    "\n",
    "plt.figure(figsize=(8, 4))\n",
    "plt.plot(range(1, 11), inertia, marker='o', linestyle='--')\n",
    "plt.title('Método do Cotovelo')\n",
    "plt.xlabel('Número de clusters')\n",
    "plt.ylabel('Inertia')\n",
    "plt.show()\n",
    "\n",
    "# Supondo que o número ótimo de clusters seja 3 (exemplo)\n",
    "k_optimo = 3\n",
    "kmeans = KMeans(n_clusters=k_optimo, random_state=42)\n",
    "clusters = kmeans.fit_predict(features_scaled)\n",
    "\n",
    "# Adicionando a informação de cluster ao DataFrame\n",
    "df['cluster'] = clusters\n",
    "\n",
    "# Análise dos Clusters\n",
    "plt.figure(figsize=(10, 6))\n",
    "sns.scatterplot(x='likes', y='dislikes', hue='cluster', data=df, palette='viridis', alpha=0.5)\n",
    "plt.title('Distribuição dos Clusters - Likes vs. Dislikes')\n",
    "plt.show()\n"
   ]
  },
  {
   "cell_type": "markdown",
   "metadata": {},
   "source": [
    "---\n",
    "\n",
    "### Interpretação do Gráfico do Método do Cotovelo\n",
    "\n",
    "O gráfico do método do cotovelo apresenta a inércia (uma medida da variação interna dos clusters) em função do número de clusters escolhidos. Podemos observar que a inércia diminui significativamente à medida que aumentamos o número de clusters de 1 para 2 e continua a diminuir, mas em um ritmo mais lento, à medida que adicionamos mais clusters. O \"cotovelo\" é o ponto em que o ganho marginal em explicar a variância diminui significativamente, o que neste caso parece ser em torno de 3 clusters. Isso sugere que a escolha de 3 clusters é apropriada para o conjunto de dados em questão, pois proporciona um bom equilíbrio entre o número de clusters e a inércia.\n",
    "\n",
    "### Interpretação do Gráfico de Distribuição dos Clusters\n",
    "\n",
    "No gráfico de distribuição dos clusters, cada ponto representa um vídeo, com as coordenadas indicando o número de 'likes' (eixo x) e 'dislikes' (eixo y) que o vídeo recebeu. Os pontos são coloridos de acordo com o cluster ao qual pertencem, identificados pelos números 0, 1 e 2.\n",
    "\n",
    "Podemos interpretar os clusters da seguinte forma:\n",
    "\n",
    "- **Cluster 0 (azul)**: Este cluster parece conter vídeos com uma quantidade moderada a alta de 'likes' e 'dislikes', sugerindo que são vídeos que geram um nível significativo de engajamento, tanto positivo quanto negativo. Isso pode indicar vídeos polarizadores ou de alto perfil que provocam reações fortes nos espectadores.\n",
    "\n",
    "- **Cluster 1 (verde)**: Este cluster inclui vídeos que receberam uma quantidade muito alta de 'likes' e 'dislikes', talvez refletindo conteúdo viral ou vídeos de canais muito populares.\n",
    "\n",
    "- **Cluster 2 (amarelo)**: Este é o maior cluster e inclui vídeos com uma quantidade menor de 'likes' e 'dislikes' em comparação com os outros clusters. Isso pode representar vídeos com engajamento médio ou de canais menos conhecidos.\n",
    "\n",
    "Note que a escala do eixo y (dislikes) é muito menor do que a do eixo x (likes), o que é comum, pois geralmente os vídeos tendem a receber mais curtidas do que descurtidas. Os clusters parecem se estender principalmente ao longo do eixo x, o que sugere que o número de 'likes' é um diferenciador mais significativo entre os grupos do que o número de 'dislikes'.\n",
    "\n",
    "### Conclusão\n",
    "\n",
    "A análise de cluster K-means oferece uma maneira de categorizar vídeos com base em seu engajamento e pode ajudar a identificar padrões de comportamento do público e estratégias de conteúdo. Os resultados podem ser utilizados para direcionar recomendações de conteúdo, estratégias de marketing e identificação de conteúdo de alto desempenho.\n",
    "\n",
    "---"
   ]
  },
  {
   "cell_type": "markdown",
   "metadata": {},
   "source": [
    "# DATAVIZ - POWERBI"
   ]
  },
  {
   "cell_type": "code",
   "execution_count": 82,
   "metadata": {},
   "outputs": [],
   "source": [
    "# Salvar o Dataframe unificado sem duplicatas como um arquivo CSV\n",
    "df.to_excel('base_dados/df.xlsx', index=False, engine='openpyxl')"
   ]
  },
  {
   "cell_type": "code",
   "execution_count": 83,
   "metadata": {},
   "outputs": [],
   "source": [
    "# Salvar o DataFrame de categorias concatenado como um arquivo CSV\n",
    "df_categorias_concatenado.to_csv('base_dados/df_categorias_concatenado.csv', index=False)\n"
   ]
  },
  {
   "cell_type": "markdown",
   "metadata": {},
   "source": [
    "---\n",
    "Vamos concluir essa análise utilizando o POWERBI para extrair os principais insigts da análise, de maneira dinâmica e interativa.\n",
    "\n",
    "Ao importar os DataFrames tratados e unificados para o Power BI, podemos criar visualizações que destacam os principais insights da nossa análise. Isso inclui distribuição de visualizações, engajamento (likes e dislikes), demografia do espectador, performance de categorias de vídeos, e mais. Com a capacidade de filtrar e segmentar dados em tempo real.\n",
    "\n",
    "---"
   ]
  }
 ],
 "metadata": {
  "kernelspec": {
   "display_name": "dataglowup",
   "language": "python",
   "name": "python3"
  },
  "language_info": {
   "codemirror_mode": {
    "name": "ipython",
    "version": 3
   },
   "file_extension": ".py",
   "mimetype": "text/x-python",
   "name": "python",
   "nbconvert_exporter": "python",
   "pygments_lexer": "ipython3",
   "version": "3.12.1"
  }
 },
 "nbformat": 4,
 "nbformat_minor": 2
}
